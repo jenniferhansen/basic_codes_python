{
 "cells": [
  {
   "cell_type": "markdown",
   "metadata": {},
   "source": [
    "# Collection of Python's basic codes"
   ]
  },
  {
   "cell_type": "markdown",
   "metadata": {},
   "source": [
    "### Data types\n",
    "1. Integers\n",
    "2. Floats"
   ]
  },
  {
   "cell_type": "code",
   "execution_count": 2,
   "metadata": {},
   "outputs": [
    {
     "name": "stdout",
     "output_type": "stream",
     "text": [
      "<class 'int'> <class 'float'>\n"
     ]
    }
   ],
   "source": [
    "#The variable x should be an integer\n",
    "x = int(4.7)\n",
    "#The variable y should be a float\n",
    "y = float(4)\n",
    "\n",
    "#Check if the data type is now correct\n",
    "print(type(x), type(y))"
   ]
  },
  {
   "cell_type": "markdown",
   "metadata": {},
   "source": [
    "We can use comparison operators like in math.  \n",
    "The return is a boolean that tells us, if our comparison is 'True' or 'False'. "
   ]
  },
  {
   "cell_type": "code",
   "execution_count": 7,
   "metadata": {},
   "outputs": [
    {
     "data": {
      "text/plain": [
       "[False, True, False, True]"
      ]
     },
     "execution_count": 7,
     "metadata": {},
     "output_type": "execute_result"
    }
   ],
   "source": [
    "[5 < 3,\n",
    "10 >= 7,\n",
    "4 == 6, \n",
    "2 != 5]"
   ]
  },
  {
   "cell_type": "markdown",
   "metadata": {},
   "source": [
    "### Strings"
   ]
  },
  {
   "cell_type": "code",
   "execution_count": 9,
   "metadata": {},
   "outputs": [
    {
     "name": "stdout",
     "output_type": "stream",
     "text": [
      "Hello Luke, I like your smile!\n"
     ]
    }
   ],
   "source": [
    "#we can use '' or \"\" for creating a str\n",
    "\n",
    "my_string = 'Hello Jenny, I like your smile!'\n",
    "print(my_string)"
   ]
  },
  {
   "cell_type": "code",
   "execution_count": 15,
   "metadata": {},
   "outputs": [
    {
     "name": "stdout",
     "output_type": "stream",
     "text": [
      "This is Lukas's mac.\n"
     ]
    }
   ],
   "source": [
    "\"\"\"\"we need to use a quotation mark ' inside our str\n",
    "the str would end after the word 'Lukas' \n",
    "We use the backslash to solve this problem \"\"\"\"\"\n",
    "\n",
    "str_with_qoutes = 'This is Lukas\\'s mac.'\n",
    "print(str_with_qoutes)"
   ]
  },
  {
   "cell_type": "code",
   "execution_count": 1,
   "metadata": {},
   "outputs": [
    {
     "name": "stdout",
     "output_type": "stream",
     "text": [
      "Does your crazy bee hypnotize other people sometimes?\n"
     ]
    }
   ],
   "source": [
    "#The output can be modified by using variables and .format \n",
    "\n",
    "animal = 'crazy bee'\n",
    "action = 'hypnotize'\n",
    "print('Does your {} {} other people sometimes?'.format(animal,action))"
   ]
  },
  {
   "cell_type": "code",
   "execution_count": 2,
   "metadata": {},
   "outputs": [
    {
     "data": {
      "text/plain": [
       "['The', 'weather', 'today', 'is', 'rainy', 'and', 'cloudy']"
      ]
     },
     "execution_count": 2,
     "metadata": {},
     "output_type": "execute_result"
    }
   ],
   "source": [
    "#A str can be splitted into different parts\n",
    "\n",
    "str_1 = 'The weather today is rainy and cloudy'\n",
    "str_1.split()"
   ]
  },
  {
   "cell_type": "code",
   "execution_count": 4,
   "metadata": {},
   "outputs": [
    {
     "data": {
      "text/plain": [
       "['I', 'really', 'like', 'my', 'new clothes because they are so comfy']"
      ]
     },
     "execution_count": 4,
     "metadata": {},
     "output_type": "execute_result"
    }
   ],
   "source": [
    "#A str can be splitted into different parts until a specific position\n",
    "#You have to type str.split('seperator', position)\n",
    "\n",
    "str_2 = 'I really like my nikes because they are so comfy'\n",
    "str_2.split(' ',4)"
   ]
  },
  {
   "cell_type": "markdown",
   "metadata": {},
   "source": [
    "We can also check if an element is in a list or if a string is a substring of another one:"
   ]
  },
  {
   "cell_type": "code",
   "execution_count": 13,
   "metadata": {},
   "outputs": [
    {
     "data": {
      "text/plain": [
       "True"
      ]
     },
     "execution_count": 13,
     "metadata": {},
     "output_type": "execute_result"
    }
   ],
   "source": [
    "#we use 'in' or 'not in' to find out:\n",
    "\n",
    "random_list = [15,18,700,89,26]\n",
    "18 in random_list"
   ]
  },
  {
   "cell_type": "markdown",
   "metadata": {},
   "source": [
    "### Useful functions for lists"
   ]
  },
  {
   "cell_type": "code",
   "execution_count": 14,
   "metadata": {},
   "outputs": [
    {
     "data": {
      "text/plain": [
       "5"
      ]
     },
     "execution_count": 14,
     "metadata": {},
     "output_type": "execute_result"
    }
   ],
   "source": [
    "#len() returns how many elements are in a list \n",
    "\n",
    "len(random_list)"
   ]
  },
  {
   "cell_type": "code",
   "execution_count": 15,
   "metadata": {},
   "outputs": [
    {
     "data": {
      "text/plain": [
       "(700, 15)"
      ]
     },
     "execution_count": 15,
     "metadata": {},
     "output_type": "execute_result"
    }
   ],
   "source": [
    "#max() returns the greatest element in a list, min() returns the smallest element\n",
    "\n",
    "max(random_list), min(random_list)"
   ]
  },
  {
   "cell_type": "code",
   "execution_count": 16,
   "metadata": {},
   "outputs": [
    {
     "data": {
      "text/plain": [
       "[15, 18, 26, 89, 700]"
      ]
     },
     "execution_count": 16,
     "metadata": {},
     "output_type": "execute_result"
    }
   ],
   "source": [
    "#sorted() returns a copy of the list sorted from the smallest to the greatest element\n",
    "\n",
    "sorted(random_list)"
   ]
  },
  {
   "cell_type": "code",
   "execution_count": 18,
   "metadata": {},
   "outputs": [
    {
     "name": "stdout",
     "output_type": "stream",
     "text": [
      "Musiker:\n",
      "1.Die Ärzte\n",
      "2.AnnenMayKantereit\n",
      "3.Marteria\n",
      "4.Provinz\n",
      "I_love_you_Babe\n"
     ]
    }
   ],
   "source": [
    "#.join is for strings and returns a string with the string elements joined by a separator str\n",
    "\n",
    "new_str_1 = '\\n'.join([\"Musiker:\", \"1.Die Ärzte\", \"2.AnnenMayKantereit\", \"3.Marteria\", \"4.Provinz\"])\n",
    "new_str_2= '_'.join(['I','love','you','Babe'])\n",
    "print(new_str_1)\n",
    "print(new_str_2)"
   ]
  },
  {
   "cell_type": "code",
   "execution_count": 20,
   "metadata": {},
   "outputs": [
    {
     "name": "stdout",
     "output_type": "stream",
     "text": [
      "[1, 1, 2, 3, 5, 8, 13, 21, 34]\n"
     ]
    }
   ],
   "source": [
    "#with .append() we can add an element to a list\n",
    "\n",
    "fibonacci = [1, 1, 2, 3, 5, 8, 13, 21]\n",
    "fibonacci.append(34)\n",
    "print(fibonacci)"
   ]
  },
  {
   "cell_type": "markdown",
   "metadata": {},
   "source": [
    "### Tuples and Sets"
   ]
  },
  {
   "cell_type": "code",
   "execution_count": 24,
   "metadata": {},
   "outputs": [
    {
     "name": "stdout",
     "output_type": "stream",
     "text": [
      "The dimensions are 45 x 60 x 13.\n"
     ]
    }
   ],
   "source": [
    "#tuples are for immutable ordered sequences of elements\n",
    "\n",
    "dimesions = {13, 45, 60}\n",
    "length, width, height = dimesions\n",
    "print('The dimensions are {} x {} x {}.'.format(length, width, height))"
   ]
  },
  {
   "cell_type": "code",
   "execution_count": 31,
   "metadata": {},
   "outputs": [
    {
     "name": "stdout",
     "output_type": "stream",
     "text": [
      "{18, 19, 20, 21, 23, 26}\n",
      "True\n",
      "{18, 19, 20, 21, 23, 26, 30}\n",
      "{19, 20, 21, 23, 26, 30}\n"
     ]
    }
   ],
   "source": [
    "#sets are mutable unordered collections of unique elements\n",
    "\n",
    "ages = [19,23,18,19,20,21,23,26,19]\n",
    "unique_ages = set(ages)\n",
    "print(unique_ages)\n",
    "\n",
    "#we can use different operators 'in', 'add', 'pop'\n",
    "\n",
    "print(20 in unique_ages)\n",
    "\n",
    "unique_ages.add(30)\n",
    "print(unique_ages)\n",
    "\n",
    "unique_ages.pop()      #one element is removed randomly\n",
    "print(unique_ages)"
   ]
  },
  {
   "cell_type": "markdown",
   "metadata": {},
   "source": [
    "### Dictionaries"
   ]
  },
  {
   "cell_type": "code",
   "execution_count": 2,
   "metadata": {},
   "outputs": [
    {
     "name": "stdout",
     "output_type": "stream",
     "text": [
      "Honey\n",
      "{'Sweet': 'Honey', 'Sour': 'Lemon', 'Salty': 'Fish', 'Bitter': 'Arugula'}\n"
     ]
    }
   ],
   "source": [
    "#mutable data type that stores unique keys to values\n",
    "\n",
    "flavors = {'Sweet':'Honey', 'Sour':'Lemon', 'Salty':'Fish'}\n",
    "print(flavors['Sweet'])    #prints the value\n",
    "\n",
    "flavors['Bitter'] = 'Arugula'   #inserts a new entry in dict\n",
    "print(flavors)"
   ]
  },
  {
   "cell_type": "code",
   "execution_count": 13,
   "metadata": {},
   "outputs": [
    {
     "name": "stdout",
     "output_type": "stream",
     "text": [
      "True\n",
      "Fish\n",
      "False\n",
      "True\n",
      "True\n",
      "None\n",
      "This flavor doesn't exist.\n"
     ]
    }
   ],
   "source": [
    "print('Sour' in flavors)    #looks up if the key is in dict\n",
    "print(flavors.get('Salty')) # looks up the value\n",
    "\n",
    "A = flavors.get('Bitter')\n",
    "print(A is 'Lemon')         #checks if both sites have the same identity \n",
    "print(A is 'Arugula')\n",
    "print(A is not 'Honey')     #checks if both sites have different identities\n",
    "\n",
    "print(flavors.get('Sweet_Sour'))\n",
    "print(flavors.get('Sweet_Sour', 'This flavor doesn\\'t exist.')) #define a return if the key isn't in dict"
   ]
  },
  {
   "cell_type": "code",
   "execution_count": 38,
   "metadata": {},
   "outputs": [
    {
     "name": "stdout",
     "output_type": "stream",
     "text": [
      "{'Food': 'Pancakes', 'Drink': 'Cola'}\n",
      "Ayran\n",
      "Our Flavors are: {'Sweet': {'Food': 'Pancakes', 'Drink': 'Cola'}, 'Sour': {'Food': 'Center_Shocks', 'Drink': 'Lemon_Juice'}, 'Salty': {'Food': 'Fish', 'Drink': 'Ayran'}, 'Bitter': {'Food': 'Arugula', 'Drink': 'Red_Wine'}, 'Sweet_Sour': {'Food': 'Chicken_Teriyaki', 'Drink': 'Ginger_Ale'}}\n"
     ]
    }
   ],
   "source": [
    "#we can create nested dictionaries\n",
    "flavors = {'Sweet': {'Food': 'Pancakes',\n",
    "                    'Drink': 'Cola'},   \n",
    "          'Sour':   {'Food':'Center_Shocks',\n",
    "                    'Drink':'Lemon_Juice'},\n",
    "          'Salty':  {'Food':'Fish',\n",
    "                    'Drink':'Ayran'},\n",
    "          'Bitter': {'Food':'Arugula',\n",
    "                    'Drink':'Red_Wine'}}\n",
    "\n",
    "sweet = flavors['Sweet']\n",
    "salty_drinks = flavors['Salty']['Drink'] #to access elements in the nested dict\n",
    "print(sweet)\n",
    "print(salty_drinks)\n",
    "\n",
    "sweet_sour = {'Food':'Chicken_Teriyaki', 'Drink': 'Ginger_Ale'} #create a new Sweet_Sour dict\n",
    "flavors['Sweet_Sour'] = sweet_sour    #assign 'Sweet_Sour' as a key to flavors dict\n",
    "print('Our Flavors are:', flavors)"
   ]
  },
  {
   "cell_type": "code",
   "execution_count": null,
   "metadata": {},
   "outputs": [],
   "source": []
  },
  {
   "cell_type": "markdown",
   "metadata": {},
   "source": [
    "### Rekursion:"
   ]
  },
  {
   "cell_type": "code",
   "execution_count": 2,
   "metadata": {},
   "outputs": [
    {
     "data": {
      "text/plain": [
       "24"
      ]
     },
     "execution_count": 2,
     "metadata": {},
     "output_type": "execute_result"
    }
   ],
   "source": [
    "#---Recursive FACULTY CALCULATION:---------------------------------------------\n",
    "\n",
    "def faculty_calc(n):\n",
    "\n",
    "    if n == 1:\n",
    "        return 1\n",
    "    else:\n",
    "        result = faculty_calc(n-1) * n\n",
    "    return result\n",
    "\n",
    "faculty_calc(4)"
   ]
  },
  {
   "cell_type": "markdown",
   "metadata": {},
   "source": [
    "### Check Python Version:"
   ]
  },
  {
   "cell_type": "code",
   "execution_count": 10,
   "metadata": {},
   "outputs": [
    {
     "name": "stdout",
     "output_type": "stream",
     "text": [
      "This is python version: 3.7.4 (default, Aug  9 2019, 18:34:13) [MSC v.1915 64 bit (AMD64)]\n"
     ]
    }
   ],
   "source": [
    "#---Check python version:---\n",
    "import sys\n",
    "version = sys.version\n",
    "print('This is python version: {}'.format(version))"
   ]
  },
  {
   "cell_type": "markdown",
   "metadata": {},
   "source": [
    "### Default Dict, lambda Function, mapping, generator and yield:"
   ]
  },
  {
   "cell_type": "code",
   "execution_count": null,
   "metadata": {},
   "outputs": [],
   "source": []
  }
 ],
 "metadata": {
  "kernelspec": {
   "display_name": "Python 3",
   "language": "python",
   "name": "python3"
  },
  "language_info": {
   "codemirror_mode": {
    "name": "ipython",
    "version": 3
   },
   "file_extension": ".py",
   "mimetype": "text/x-python",
   "name": "python",
   "nbconvert_exporter": "python",
   "pygments_lexer": "ipython3",
   "version": "3.7.4"
  }
 },
 "nbformat": 4,
 "nbformat_minor": 2
}
