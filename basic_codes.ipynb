{
 "cells": [
  {
   "cell_type": "markdown",
   "metadata": {},
   "source": [
    "# Collection of Python's basic codes"
   ]
  },
  {
   "cell_type": "markdown",
   "metadata": {},
   "source": [
    "There are different data types in python: \n",
    "1. Integers\n",
    "2. Floats"
   ]
  },
  {
   "cell_type": "code",
   "execution_count": 2,
   "metadata": {},
   "outputs": [
    {
     "name": "stdout",
     "output_type": "stream",
     "text": [
      "<class 'int'> <class 'float'>\n"
     ]
    }
   ],
   "source": [
    "#The variable x should be an integer\n",
    "x = int(4.7)\n",
    "#The variable y should be a float\n",
    "y = float(4)\n",
    "\n",
    "#Check if the data type is now correct\n",
    "print(type(x), type(y))"
   ]
  },
  {
   "cell_type": "markdown",
   "metadata": {},
   "source": [
    "We can use comparison operators like in math.  \n",
    "The return is a boolean that tells us, if our comparison is 'True' or 'False'. "
   ]
  },
  {
   "cell_type": "code",
   "execution_count": 7,
   "metadata": {},
   "outputs": [
    {
     "data": {
      "text/plain": [
       "[False, True, False, True]"
      ]
     },
     "execution_count": 7,
     "metadata": {},
     "output_type": "execute_result"
    }
   ],
   "source": [
    "[5 < 3,\n",
    "10 >= 7,\n",
    "4 == 6, \n",
    "2 != 5]"
   ]
  },
  {
   "cell_type": "markdown",
   "metadata": {},
   "source": [
    "Python also works with strings. "
   ]
  },
  {
   "cell_type": "code",
   "execution_count": 9,
   "metadata": {},
   "outputs": [
    {
     "name": "stdout",
     "output_type": "stream",
     "text": [
      "Hello Luke, I like your smile!\n"
     ]
    }
   ],
   "source": [
    "#we can use '' or \"\" for creating a str\n",
    "\n",
    "my_string = 'Hello Jenny, I like your smile!'\n",
    "print(my_string)"
   ]
  },
  {
   "cell_type": "code",
   "execution_count": 15,
   "metadata": {},
   "outputs": [
    {
     "name": "stdout",
     "output_type": "stream",
     "text": [
      "This is Lukas's mac.\n"
     ]
    }
   ],
   "source": [
    "\"\"\"\"we need to use a quotation mark ' inside our str\n",
    "the str would end after the word 'Lukas' \n",
    "We use the backslash to solve this problem \"\"\"\"\"\n",
    "\n",
    "str_with_qoutes = 'This is Lukas\\'s mac.'\n",
    "print(str_with_qoutes)"
   ]
  },
  {
   "cell_type": "code",
   "execution_count": 1,
   "metadata": {},
   "outputs": [
    {
     "name": "stdout",
     "output_type": "stream",
     "text": [
      "Does your crazy bee hypnotize other people sometimes?\n"
     ]
    }
   ],
   "source": [
    "#The output can be modified by using variables and .format \n",
    "\n",
    "animal = 'crazy bee'\n",
    "action = 'hypnotize'\n",
    "print('Does your {} {} other people sometimes?'.format(animal,action))"
   ]
  },
  {
   "cell_type": "markdown",
   "metadata": {},
   "source": [
    "### Rekursion:"
   ]
  },
  {
   "cell_type": "code",
   "execution_count": 2,
   "metadata": {},
   "outputs": [
    {
     "data": {
      "text/plain": [
       "24"
      ]
     },
     "execution_count": 2,
     "metadata": {},
     "output_type": "execute_result"
    }
   ],
   "source": [
    "#---Recursive FACULTY CALCULATION:---------------------------------------------\n",
    "\n",
    "def faculty_calc(n):\n",
    "\n",
    "    if n == 1:\n",
    "        return 1\n",
    "    else:\n",
    "        result = faculty_calc(n-1) * n\n",
    "    return result\n",
    "\n",
    "faculty_calc(4)"
   ]
  },
  {
   "cell_type": "code",
   "execution_count": 2,
   "metadata": {},
   "outputs": [
    {
     "data": {
      "text/plain": [
       "['The', 'weather', 'today', 'is', 'rainy', 'and', 'cloudy']"
      ]
     },
     "execution_count": 2,
     "metadata": {},
     "output_type": "execute_result"
    }
   ],
   "source": [
    "#A str can be splitted into different parts\n",
    "\n",
    "str_1 = 'The weather today is rainy and cloudy'\n",
    "str_1.split()"
   ]
  },
  {
   "cell_type": "code",
   "execution_count": 4,
   "metadata": {},
   "outputs": [
    {
     "data": {
      "text/plain": [
       "['I', 'really', 'like', 'my', 'new clothes because they are so comfy']"
      ]
     },
     "execution_count": 4,
     "metadata": {},
     "output_type": "execute_result"
    }
   ],
   "source": [
    "#A str can be splitted into different parts until a specific position\n",
    "#You have to type str.split('seperator', position)\n",
    "\n",
    "str_2 = 'I really like my new clothes because they are so comfy'\n",
    "str_2.split(' ',4)"
   ]
  },
  {
   "cell_type": "code",
   "execution_count": null,
   "metadata": {},
   "outputs": [],
   "source": []
  }
 ],
 "metadata": {
  "kernelspec": {
   "display_name": "Python 3",
   "language": "python",
   "name": "python3"
  },
  "language_info": {
   "codemirror_mode": {
    "name": "ipython",
    "version": 3
   },
   "file_extension": ".py",
   "mimetype": "text/x-python",
   "name": "python",
   "nbconvert_exporter": "python",
   "pygments_lexer": "ipython3",
   "version": "3.7.4"
  }
 },
 "nbformat": 4,
 "nbformat_minor": 2
}
